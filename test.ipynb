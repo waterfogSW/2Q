{
 "cells": [
  {
   "cell_type": "code",
   "execution_count": 20,
   "source": [
    "import subprocess\n",
    "import pandas as pd"
   ],
   "outputs": [],
   "metadata": {}
  },
  {
   "cell_type": "code",
   "execution_count": 17,
   "source": [
    "raw_data = {'cache_size': [], 'FIFO': [], 'LFU': [], 'LRU': [], 'TWO_Q': []}"
   ],
   "outputs": [],
   "metadata": {}
  },
  {
   "cell_type": "code",
   "execution_count": 4,
   "source": [
    "data = './data/data001'"
   ],
   "outputs": [],
   "metadata": {}
  },
  {
   "cell_type": "code",
   "execution_count": 18,
   "source": [
    "for cache_size in range(100, 1001, 100):\n",
    "    cmd = subprocess.Popen('src/main ' + data + ' ' + \"{}\".format(cache_size) + ' 20',\n",
    "                           shell=True, stdout=subprocess.PIPE)\n",
    "\n",
    "    temp = \"\"\n",
    "    for line in cmd.stdout:\n",
    "        temp += line.decode(\"utf-8\")\n",
    "\n",
    "    ratio = temp.split('\\n')\n",
    "    raw_data['cache_size'].append(cache_size)\n",
    "    raw_data['FIFO'].append(ratio[1])\n",
    "    raw_data['LFU'].append(ratio[2])\n",
    "    raw_data['LRU'].append(ratio[3])\n",
    "    raw_data['TWO_Q'].append(ratio[4])\n"
   ],
   "outputs": [],
   "metadata": {}
  },
  {
   "cell_type": "code",
   "execution_count": 21,
   "source": [
    "pd.DataFrame.from_dict(raw_data)"
   ],
   "outputs": [
    {
     "output_type": "execute_result",
     "data": {
      "text/html": [
       "<div>\n",
       "<style scoped>\n",
       "    .dataframe tbody tr th:only-of-type {\n",
       "        vertical-align: middle;\n",
       "    }\n",
       "\n",
       "    .dataframe tbody tr th {\n",
       "        vertical-align: top;\n",
       "    }\n",
       "\n",
       "    .dataframe thead th {\n",
       "        text-align: right;\n",
       "    }\n",
       "</style>\n",
       "<table border=\"1\" class=\"dataframe\">\n",
       "  <thead>\n",
       "    <tr style=\"text-align: right;\">\n",
       "      <th></th>\n",
       "      <th>cache_size</th>\n",
       "      <th>FIFO</th>\n",
       "      <th>LFU</th>\n",
       "      <th>LRU</th>\n",
       "      <th>TWO_Q</th>\n",
       "    </tr>\n",
       "  </thead>\n",
       "  <tbody>\n",
       "    <tr>\n",
       "      <th>0</th>\n",
       "      <td>100</td>\n",
       "      <td>35.4</td>\n",
       "      <td>16.5</td>\n",
       "      <td>36.9</td>\n",
       "      <td>31.0</td>\n",
       "    </tr>\n",
       "    <tr>\n",
       "      <th>1</th>\n",
       "      <td>200</td>\n",
       "      <td>46.2</td>\n",
       "      <td>29.2</td>\n",
       "      <td>48.3</td>\n",
       "      <td>48.9</td>\n",
       "    </tr>\n",
       "    <tr>\n",
       "      <th>2</th>\n",
       "      <td>300</td>\n",
       "      <td>54.4</td>\n",
       "      <td>39.0</td>\n",
       "      <td>57.2</td>\n",
       "      <td>58.1</td>\n",
       "    </tr>\n",
       "    <tr>\n",
       "      <th>3</th>\n",
       "      <td>400</td>\n",
       "      <td>60.7</td>\n",
       "      <td>49.6</td>\n",
       "      <td>64.2</td>\n",
       "      <td>65.4</td>\n",
       "    </tr>\n",
       "    <tr>\n",
       "      <th>4</th>\n",
       "      <td>500</td>\n",
       "      <td>65.5</td>\n",
       "      <td>57.8</td>\n",
       "      <td>69.9</td>\n",
       "      <td>71.1</td>\n",
       "    </tr>\n",
       "    <tr>\n",
       "      <th>5</th>\n",
       "      <td>600</td>\n",
       "      <td>69.5</td>\n",
       "      <td>65.0</td>\n",
       "      <td>74.4</td>\n",
       "      <td>75.7</td>\n",
       "    </tr>\n",
       "    <tr>\n",
       "      <th>6</th>\n",
       "      <td>700</td>\n",
       "      <td>72.7</td>\n",
       "      <td>70.1</td>\n",
       "      <td>78.0</td>\n",
       "      <td>79.3</td>\n",
       "    </tr>\n",
       "    <tr>\n",
       "      <th>7</th>\n",
       "      <td>800</td>\n",
       "      <td>75.5</td>\n",
       "      <td>73.7</td>\n",
       "      <td>81.0</td>\n",
       "      <td>82.1</td>\n",
       "    </tr>\n",
       "    <tr>\n",
       "      <th>8</th>\n",
       "      <td>900</td>\n",
       "      <td>77.9</td>\n",
       "      <td>76.9</td>\n",
       "      <td>83.5</td>\n",
       "      <td>84.3</td>\n",
       "    </tr>\n",
       "    <tr>\n",
       "      <th>9</th>\n",
       "      <td>1000</td>\n",
       "      <td>80.1</td>\n",
       "      <td>79.8</td>\n",
       "      <td>85.6</td>\n",
       "      <td>86.2</td>\n",
       "    </tr>\n",
       "  </tbody>\n",
       "</table>\n",
       "</div>"
      ],
      "text/plain": [
       "   cache_size  FIFO   LFU   LRU TWO_Q\n",
       "0         100  35.4  16.5  36.9  31.0\n",
       "1         200  46.2  29.2  48.3  48.9\n",
       "2         300  54.4  39.0  57.2  58.1\n",
       "3         400  60.7  49.6  64.2  65.4\n",
       "4         500  65.5  57.8  69.9  71.1\n",
       "5         600  69.5  65.0  74.4  75.7\n",
       "6         700  72.7  70.1  78.0  79.3\n",
       "7         800  75.5  73.7  81.0  82.1\n",
       "8         900  77.9  76.9  83.5  84.3\n",
       "9        1000  80.1  79.8  85.6  86.2"
      ]
     },
     "metadata": {},
     "execution_count": 21
    }
   ],
   "metadata": {}
  }
 ],
 "metadata": {
  "orig_nbformat": 4,
  "language_info": {
   "name": "python",
   "version": "3.8.8",
   "mimetype": "text/x-python",
   "codemirror_mode": {
    "name": "ipython",
    "version": 3
   },
   "pygments_lexer": "ipython3",
   "nbconvert_exporter": "python",
   "file_extension": ".py"
  },
  "kernelspec": {
   "name": "python3",
   "display_name": "Python 3.8.8 64-bit ('base': conda)"
  },
  "interpreter": {
   "hash": "cf7def2318a53c2d43e55e5138c2f0e97f94409a046d6be20c94d7d193fed511"
  }
 },
 "nbformat": 4,
 "nbformat_minor": 2
}