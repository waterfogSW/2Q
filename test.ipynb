{
 "cells": [
  {
   "cell_type": "code",
   "execution_count": 1,
   "source": [
    "import os\n",
    "import subprocess\n",
    "import pandas as pd"
   ],
   "outputs": [],
   "metadata": {}
  },
  {
   "cell_type": "code",
   "execution_count": 2,
   "source": [
    "data_path = './data/'\n",
    "data_list = [data_path + s for s in os.listdir(data_path)]\n",
    "data_list"
   ],
   "outputs": [
    {
     "output_type": "execute_result",
     "data": {
      "text/plain": [
       "['./data/data004',\n",
       " './data/data005',\n",
       " './data/data003',\n",
       " './data/data002',\n",
       " './data/data001']"
      ]
     },
     "metadata": {},
     "execution_count": 2
    }
   ],
   "metadata": {}
  },
  {
   "cell_type": "code",
   "execution_count": 25,
   "source": [
    "cache_ratio = 25\n",
    "data = data_list[4]"
   ],
   "outputs": [],
   "metadata": {}
  },
  {
   "cell_type": "code",
   "execution_count": 29,
   "source": [
    "raw_data = {'Cache_Size': [], 'FIFO': [],'LFU':[], 'LRU': [], 'TWO_Q': []}\n",
    "\n",
    "for cache_size in range(100, 2001, 100):\n",
    "    cmd = subprocess.Popen('src/main ' + data + ' ' + \"{}\".format(cache_size) + ' ' + \"{}\".format(cache_ratio),\n",
    "                           shell=True, stdout=subprocess.PIPE)\n",
    "\n",
    "    temp = \"\"\n",
    "    for line in cmd.stdout:\n",
    "        temp += line.decode(\"utf-8\")\n",
    "\n",
    "    ratio = temp.split('\\n')\n",
    "\n",
    "    raw_data['Cache_Size'].append(cache_size)\n",
    "    raw_data['FIFO'].append(float(ratio[1]))\n",
    "    raw_data['LFU'].append(float(ratio[2]))\n",
    "    raw_data['LRU'].append(float(ratio[3]))\n",
    "    raw_data['TWO_Q'].append(float(ratio[4]))\n"
   ],
   "outputs": [],
   "metadata": {}
  },
  {
   "cell_type": "code",
   "execution_count": 30,
   "source": [
    "# ratio 20\n",
    "df_hitRatio = pd.DataFrame.from_dict(raw_data)\n",
    "df_hitRatio = df_hitRatio.set_index('Cache_Size')\n",
    "df_hitRatio"
   ],
   "outputs": [
    {
     "output_type": "execute_result",
     "data": {
      "text/html": [
       "<div>\n",
       "<style scoped>\n",
       "    .dataframe tbody tr th:only-of-type {\n",
       "        vertical-align: middle;\n",
       "    }\n",
       "\n",
       "    .dataframe tbody tr th {\n",
       "        vertical-align: top;\n",
       "    }\n",
       "\n",
       "    .dataframe thead th {\n",
       "        text-align: right;\n",
       "    }\n",
       "</style>\n",
       "<table border=\"1\" class=\"dataframe\">\n",
       "  <thead>\n",
       "    <tr style=\"text-align: right;\">\n",
       "      <th></th>\n",
       "      <th>FIFO</th>\n",
       "      <th>LFU</th>\n",
       "      <th>LRU</th>\n",
       "      <th>TWO_Q</th>\n",
       "    </tr>\n",
       "    <tr>\n",
       "      <th>Cache_Size</th>\n",
       "      <th></th>\n",
       "      <th></th>\n",
       "      <th></th>\n",
       "      <th></th>\n",
       "    </tr>\n",
       "  </thead>\n",
       "  <tbody>\n",
       "    <tr>\n",
       "      <th>100</th>\n",
       "      <td>35.4</td>\n",
       "      <td>16.5</td>\n",
       "      <td>36.9</td>\n",
       "      <td>33.0</td>\n",
       "    </tr>\n",
       "    <tr>\n",
       "      <th>200</th>\n",
       "      <td>46.2</td>\n",
       "      <td>29.2</td>\n",
       "      <td>48.3</td>\n",
       "      <td>49.2</td>\n",
       "    </tr>\n",
       "    <tr>\n",
       "      <th>300</th>\n",
       "      <td>54.4</td>\n",
       "      <td>39.0</td>\n",
       "      <td>57.2</td>\n",
       "      <td>58.2</td>\n",
       "    </tr>\n",
       "    <tr>\n",
       "      <th>400</th>\n",
       "      <td>60.7</td>\n",
       "      <td>49.6</td>\n",
       "      <td>64.2</td>\n",
       "      <td>65.3</td>\n",
       "    </tr>\n",
       "    <tr>\n",
       "      <th>500</th>\n",
       "      <td>65.5</td>\n",
       "      <td>57.8</td>\n",
       "      <td>69.9</td>\n",
       "      <td>70.9</td>\n",
       "    </tr>\n",
       "    <tr>\n",
       "      <th>600</th>\n",
       "      <td>69.5</td>\n",
       "      <td>65.0</td>\n",
       "      <td>74.4</td>\n",
       "      <td>75.2</td>\n",
       "    </tr>\n",
       "    <tr>\n",
       "      <th>700</th>\n",
       "      <td>72.7</td>\n",
       "      <td>70.1</td>\n",
       "      <td>78.0</td>\n",
       "      <td>78.6</td>\n",
       "    </tr>\n",
       "    <tr>\n",
       "      <th>800</th>\n",
       "      <td>75.5</td>\n",
       "      <td>73.7</td>\n",
       "      <td>81.0</td>\n",
       "      <td>81.4</td>\n",
       "    </tr>\n",
       "    <tr>\n",
       "      <th>900</th>\n",
       "      <td>77.9</td>\n",
       "      <td>76.9</td>\n",
       "      <td>83.5</td>\n",
       "      <td>83.6</td>\n",
       "    </tr>\n",
       "    <tr>\n",
       "      <th>1000</th>\n",
       "      <td>80.1</td>\n",
       "      <td>79.8</td>\n",
       "      <td>85.6</td>\n",
       "      <td>85.5</td>\n",
       "    </tr>\n",
       "    <tr>\n",
       "      <th>1100</th>\n",
       "      <td>82.0</td>\n",
       "      <td>82.0</td>\n",
       "      <td>87.3</td>\n",
       "      <td>87.1</td>\n",
       "    </tr>\n",
       "    <tr>\n",
       "      <th>1200</th>\n",
       "      <td>83.6</td>\n",
       "      <td>83.6</td>\n",
       "      <td>88.8</td>\n",
       "      <td>88.5</td>\n",
       "    </tr>\n",
       "    <tr>\n",
       "      <th>1300</th>\n",
       "      <td>85.0</td>\n",
       "      <td>85.4</td>\n",
       "      <td>89.9</td>\n",
       "      <td>89.6</td>\n",
       "    </tr>\n",
       "    <tr>\n",
       "      <th>1400</th>\n",
       "      <td>86.2</td>\n",
       "      <td>86.9</td>\n",
       "      <td>90.9</td>\n",
       "      <td>90.6</td>\n",
       "    </tr>\n",
       "    <tr>\n",
       "      <th>1500</th>\n",
       "      <td>87.3</td>\n",
       "      <td>88.4</td>\n",
       "      <td>91.8</td>\n",
       "      <td>91.4</td>\n",
       "    </tr>\n",
       "    <tr>\n",
       "      <th>1600</th>\n",
       "      <td>88.3</td>\n",
       "      <td>89.3</td>\n",
       "      <td>92.5</td>\n",
       "      <td>92.1</td>\n",
       "    </tr>\n",
       "    <tr>\n",
       "      <th>1700</th>\n",
       "      <td>89.1</td>\n",
       "      <td>90.2</td>\n",
       "      <td>93.1</td>\n",
       "      <td>92.7</td>\n",
       "    </tr>\n",
       "    <tr>\n",
       "      <th>1800</th>\n",
       "      <td>89.8</td>\n",
       "      <td>90.9</td>\n",
       "      <td>93.6</td>\n",
       "      <td>93.3</td>\n",
       "    </tr>\n",
       "    <tr>\n",
       "      <th>1900</th>\n",
       "      <td>90.5</td>\n",
       "      <td>91.5</td>\n",
       "      <td>94.1</td>\n",
       "      <td>93.7</td>\n",
       "    </tr>\n",
       "    <tr>\n",
       "      <th>2000</th>\n",
       "      <td>91.1</td>\n",
       "      <td>92.2</td>\n",
       "      <td>94.5</td>\n",
       "      <td>94.2</td>\n",
       "    </tr>\n",
       "  </tbody>\n",
       "</table>\n",
       "</div>"
      ],
      "text/plain": [
       "            FIFO   LFU   LRU  TWO_Q\n",
       "Cache_Size                         \n",
       "100         35.4  16.5  36.9   33.0\n",
       "200         46.2  29.2  48.3   49.2\n",
       "300         54.4  39.0  57.2   58.2\n",
       "400         60.7  49.6  64.2   65.3\n",
       "500         65.5  57.8  69.9   70.9\n",
       "600         69.5  65.0  74.4   75.2\n",
       "700         72.7  70.1  78.0   78.6\n",
       "800         75.5  73.7  81.0   81.4\n",
       "900         77.9  76.9  83.5   83.6\n",
       "1000        80.1  79.8  85.6   85.5\n",
       "1100        82.0  82.0  87.3   87.1\n",
       "1200        83.6  83.6  88.8   88.5\n",
       "1300        85.0  85.4  89.9   89.6\n",
       "1400        86.2  86.9  90.9   90.6\n",
       "1500        87.3  88.4  91.8   91.4\n",
       "1600        88.3  89.3  92.5   92.1\n",
       "1700        89.1  90.2  93.1   92.7\n",
       "1800        89.8  90.9  93.6   93.3\n",
       "1900        90.5  91.5  94.1   93.7\n",
       "2000        91.1  92.2  94.5   94.2"
      ]
     },
     "metadata": {},
     "execution_count": 30
    }
   ],
   "metadata": {}
  },
  {
   "cell_type": "code",
   "execution_count": 31,
   "source": [
    "df_hitRatio.plot()"
   ],
   "outputs": [
    {
     "output_type": "execute_result",
     "data": {
      "text/plain": [
       "<AxesSubplot:xlabel='Cache_Size'>"
      ]
     },
     "metadata": {},
     "execution_count": 31
    },
    {
     "output_type": "display_data",
     "data": {
      "image/png": "[encoded data removed]",
      "text/plain": [
       "<Figure size 432x288 with 1 Axes>"
      ]
     },
     "metadata": {
      "needs_background": "light"
     }
    }
   ],
   "metadata": {}
  }
 ],
 "metadata": {
  "orig_nbformat": 4,
  "language_info": {
   "name": "python",
   "version": "3.8.8",
   "mimetype": "text/x-python",
   "codemirror_mode": {
    "name": "ipython",
    "version": 3
   },
   "pygments_lexer": "ipython3",
   "nbconvert_exporter": "python",
   "file_extension": ".py"
  },
  "kernelspec": {
   "name": "python3",
   "display_name": "Python 3.8.8 64-bit ('base': conda)"
  },
  "interpreter": {
   "hash": "cf7def2318a53c2d43e55e5138c2f0e97f94409a046d6be20c94d7d193fed511"
  }
 },
 "nbformat": 4,
 "nbformat_minor": 2
}