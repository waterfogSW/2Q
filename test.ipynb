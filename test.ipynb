{
 "cells": [
  {
   "cell_type": "code",
   "execution_count": 20,
   "source": [
    "import subprocess\n",
    "cmd = subprocess.Popen('src/main ./data/data001 500 20', shell=True, stdout=subprocess.PIPE)\n",
    "data = \"\"\n",
    "for line in cmd.stdout:\n",
    "    data += line.decode(\"utf-8\")"
   ],
   "outputs": [],
   "metadata": {}
  },
  {
   "cell_type": "code",
   "execution_count": 22,
   "source": [
    "data"
   ],
   "outputs": [
    {
     "output_type": "execute_result",
     "data": {
      "text/plain": [
       "'a1_size : 100\\nam_size : 400\\n1000000\\nFIFO  : Hit: 655486\\nLRU   : Hit: 699075\\nLFU   : Hit: 577905\\nTWO Q : Hit: 711410\\nFIFO 65.5\\nLRU 69.9\\nLFU 57.8\\nTWO 71.1\\n'"
      ]
     },
     "metadata": {},
     "execution_count": 22
    }
   ],
   "metadata": {}
  }
 ],
 "metadata": {
  "orig_nbformat": 4,
  "language_info": {
   "name": "python",
   "version": "3.8.8",
   "mimetype": "text/x-python",
   "codemirror_mode": {
    "name": "ipython",
    "version": 3
   },
   "pygments_lexer": "ipython3",
   "nbconvert_exporter": "python",
   "file_extension": ".py"
  },
  "kernelspec": {
   "name": "python3",
   "display_name": "Python 3.8.8 64-bit ('base': conda)"
  },
  "interpreter": {
   "hash": "cf7def2318a53c2d43e55e5138c2f0e97f94409a046d6be20c94d7d193fed511"
  }
 },
 "nbformat": 4,
 "nbformat_minor": 2
}