{
 "cells": [
  {
   "cell_type": "code",
   "execution_count": 3,
   "source": [
    "import subprocess\n",
    "cmd = subprocess.Popen('src/main ./data/data001 500 20', shell=True, stdout=subprocess.PIPE)\n",
    "for line in cmd.stdout:\n",
    "    print(line)"
   ],
   "outputs": [
    {
     "output_type": "stream",
     "name": "stdout",
     "text": [
      "b'a1_size : 1000\\n'\n",
      "b'am_size : 4000\\n'\n",
      "b'FIFO  : Hit: 976658\\n'\n",
      "b'LRU   : Hit: 985685\\n'\n",
      "b'LFU   : Hit: 981372\\n'\n",
      "b'TWO Q : Hit: 984820\\n'\n"
     ]
    }
   ],
   "metadata": {}
  }
 ],
 "metadata": {
  "orig_nbformat": 4,
  "language_info": {
   "name": "python",
   "version": "3.8.8",
   "mimetype": "text/x-python",
   "codemirror_mode": {
    "name": "ipython",
    "version": 3
   },
   "pygments_lexer": "ipython3",
   "nbconvert_exporter": "python",
   "file_extension": ".py"
  },
  "kernelspec": {
   "name": "python3",
   "display_name": "Python 3.8.8 64-bit ('base': conda)"
  },
  "interpreter": {
   "hash": "cf7def2318a53c2d43e55e5138c2f0e97f94409a046d6be20c94d7d193fed511"
  }
 },
 "nbformat": 4,
 "nbformat_minor": 2
}